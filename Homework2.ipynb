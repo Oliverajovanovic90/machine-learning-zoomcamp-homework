{
 "cells": [
  {
   "cell_type": "code",
   "execution_count": 1,
   "id": "8734957a-fb8a-471e-b32f-e2631bdb796b",
   "metadata": {},
   "outputs": [],
   "source": [
    "import pandas as pd\n",
    "import numpy as np\n",
    "\n",
    "import seaborn as sns\n",
    "from matplotlib import pyplot as plt\n",
    "%matplotlib inline"
   ]
  },
  {
   "cell_type": "code",
   "execution_count": 2,
   "id": "e801867e-0b36-44e1-a935-c45b23f71271",
   "metadata": {},
   "outputs": [],
   "source": [
    "# Load dataset\n",
    "url = \"https://raw.githubusercontent.com/alexeygrigorev/datasets/master/car_fuel_efficiency.csv\"\n",
    "df = pd.read_csv(url)"
   ]
  },
  {
   "cell_type": "code",
   "execution_count": 4,
   "id": "3143f210-d9e1-4a94-bc73-a8a8c866e0ab",
   "metadata": {},
   "outputs": [
    {
     "data": {
      "text/html": [
       "<div>\n",
       "<style scoped>\n",
       "    .dataframe tbody tr th:only-of-type {\n",
       "        vertical-align: middle;\n",
       "    }\n",
       "\n",
       "    .dataframe tbody tr th {\n",
       "        vertical-align: top;\n",
       "    }\n",
       "\n",
       "    .dataframe thead th {\n",
       "        text-align: right;\n",
       "    }\n",
       "</style>\n",
       "<table border=\"1\" class=\"dataframe\">\n",
       "  <thead>\n",
       "    <tr style=\"text-align: right;\">\n",
       "      <th></th>\n",
       "      <th>engine_displacement</th>\n",
       "      <th>num_cylinders</th>\n",
       "      <th>horsepower</th>\n",
       "      <th>vehicle_weight</th>\n",
       "      <th>acceleration</th>\n",
       "      <th>model_year</th>\n",
       "      <th>origin</th>\n",
       "      <th>fuel_type</th>\n",
       "      <th>drivetrain</th>\n",
       "      <th>num_doors</th>\n",
       "      <th>fuel_efficiency_mpg</th>\n",
       "    </tr>\n",
       "  </thead>\n",
       "  <tbody>\n",
       "    <tr>\n",
       "      <th>0</th>\n",
       "      <td>170</td>\n",
       "      <td>3.0</td>\n",
       "      <td>159.0</td>\n",
       "      <td>3413.433759</td>\n",
       "      <td>17.7</td>\n",
       "      <td>2003</td>\n",
       "      <td>Europe</td>\n",
       "      <td>Gasoline</td>\n",
       "      <td>All-wheel drive</td>\n",
       "      <td>0.0</td>\n",
       "      <td>13.231729</td>\n",
       "    </tr>\n",
       "    <tr>\n",
       "      <th>1</th>\n",
       "      <td>130</td>\n",
       "      <td>5.0</td>\n",
       "      <td>97.0</td>\n",
       "      <td>3149.664934</td>\n",
       "      <td>17.8</td>\n",
       "      <td>2007</td>\n",
       "      <td>USA</td>\n",
       "      <td>Gasoline</td>\n",
       "      <td>Front-wheel drive</td>\n",
       "      <td>0.0</td>\n",
       "      <td>13.688217</td>\n",
       "    </tr>\n",
       "    <tr>\n",
       "      <th>2</th>\n",
       "      <td>170</td>\n",
       "      <td>NaN</td>\n",
       "      <td>78.0</td>\n",
       "      <td>3079.038997</td>\n",
       "      <td>15.1</td>\n",
       "      <td>2018</td>\n",
       "      <td>Europe</td>\n",
       "      <td>Gasoline</td>\n",
       "      <td>Front-wheel drive</td>\n",
       "      <td>0.0</td>\n",
       "      <td>14.246341</td>\n",
       "    </tr>\n",
       "    <tr>\n",
       "      <th>3</th>\n",
       "      <td>220</td>\n",
       "      <td>4.0</td>\n",
       "      <td>NaN</td>\n",
       "      <td>2542.392402</td>\n",
       "      <td>20.2</td>\n",
       "      <td>2009</td>\n",
       "      <td>USA</td>\n",
       "      <td>Diesel</td>\n",
       "      <td>All-wheel drive</td>\n",
       "      <td>2.0</td>\n",
       "      <td>16.912736</td>\n",
       "    </tr>\n",
       "    <tr>\n",
       "      <th>4</th>\n",
       "      <td>210</td>\n",
       "      <td>1.0</td>\n",
       "      <td>140.0</td>\n",
       "      <td>3460.870990</td>\n",
       "      <td>14.4</td>\n",
       "      <td>2009</td>\n",
       "      <td>Europe</td>\n",
       "      <td>Gasoline</td>\n",
       "      <td>All-wheel drive</td>\n",
       "      <td>2.0</td>\n",
       "      <td>12.488369</td>\n",
       "    </tr>\n",
       "    <tr>\n",
       "      <th>...</th>\n",
       "      <td>...</td>\n",
       "      <td>...</td>\n",
       "      <td>...</td>\n",
       "      <td>...</td>\n",
       "      <td>...</td>\n",
       "      <td>...</td>\n",
       "      <td>...</td>\n",
       "      <td>...</td>\n",
       "      <td>...</td>\n",
       "      <td>...</td>\n",
       "      <td>...</td>\n",
       "    </tr>\n",
       "    <tr>\n",
       "      <th>9699</th>\n",
       "      <td>140</td>\n",
       "      <td>5.0</td>\n",
       "      <td>164.0</td>\n",
       "      <td>2981.107371</td>\n",
       "      <td>17.3</td>\n",
       "      <td>2013</td>\n",
       "      <td>Europe</td>\n",
       "      <td>Diesel</td>\n",
       "      <td>Front-wheel drive</td>\n",
       "      <td>NaN</td>\n",
       "      <td>15.101802</td>\n",
       "    </tr>\n",
       "    <tr>\n",
       "      <th>9700</th>\n",
       "      <td>180</td>\n",
       "      <td>NaN</td>\n",
       "      <td>154.0</td>\n",
       "      <td>2439.525729</td>\n",
       "      <td>15.0</td>\n",
       "      <td>2004</td>\n",
       "      <td>USA</td>\n",
       "      <td>Gasoline</td>\n",
       "      <td>All-wheel drive</td>\n",
       "      <td>0.0</td>\n",
       "      <td>17.962326</td>\n",
       "    </tr>\n",
       "    <tr>\n",
       "      <th>9701</th>\n",
       "      <td>220</td>\n",
       "      <td>2.0</td>\n",
       "      <td>138.0</td>\n",
       "      <td>2583.471318</td>\n",
       "      <td>15.1</td>\n",
       "      <td>2008</td>\n",
       "      <td>USA</td>\n",
       "      <td>Diesel</td>\n",
       "      <td>All-wheel drive</td>\n",
       "      <td>-1.0</td>\n",
       "      <td>17.186587</td>\n",
       "    </tr>\n",
       "    <tr>\n",
       "      <th>9702</th>\n",
       "      <td>230</td>\n",
       "      <td>4.0</td>\n",
       "      <td>177.0</td>\n",
       "      <td>2905.527390</td>\n",
       "      <td>19.4</td>\n",
       "      <td>2011</td>\n",
       "      <td>USA</td>\n",
       "      <td>Diesel</td>\n",
       "      <td>Front-wheel drive</td>\n",
       "      <td>1.0</td>\n",
       "      <td>15.331551</td>\n",
       "    </tr>\n",
       "    <tr>\n",
       "      <th>9703</th>\n",
       "      <td>270</td>\n",
       "      <td>3.0</td>\n",
       "      <td>140.0</td>\n",
       "      <td>2908.043477</td>\n",
       "      <td>14.7</td>\n",
       "      <td>2005</td>\n",
       "      <td>Asia</td>\n",
       "      <td>Diesel</td>\n",
       "      <td>All-wheel drive</td>\n",
       "      <td>-1.0</td>\n",
       "      <td>14.884467</td>\n",
       "    </tr>\n",
       "  </tbody>\n",
       "</table>\n",
       "<p>9704 rows × 11 columns</p>\n",
       "</div>"
      ],
      "text/plain": [
       "      engine_displacement  num_cylinders  horsepower  vehicle_weight  \\\n",
       "0                     170            3.0       159.0     3413.433759   \n",
       "1                     130            5.0        97.0     3149.664934   \n",
       "2                     170            NaN        78.0     3079.038997   \n",
       "3                     220            4.0         NaN     2542.392402   \n",
       "4                     210            1.0       140.0     3460.870990   \n",
       "...                   ...            ...         ...             ...   \n",
       "9699                  140            5.0       164.0     2981.107371   \n",
       "9700                  180            NaN       154.0     2439.525729   \n",
       "9701                  220            2.0       138.0     2583.471318   \n",
       "9702                  230            4.0       177.0     2905.527390   \n",
       "9703                  270            3.0       140.0     2908.043477   \n",
       "\n",
       "      acceleration  model_year  origin fuel_type         drivetrain  \\\n",
       "0             17.7        2003  Europe  Gasoline    All-wheel drive   \n",
       "1             17.8        2007     USA  Gasoline  Front-wheel drive   \n",
       "2             15.1        2018  Europe  Gasoline  Front-wheel drive   \n",
       "3             20.2        2009     USA    Diesel    All-wheel drive   \n",
       "4             14.4        2009  Europe  Gasoline    All-wheel drive   \n",
       "...            ...         ...     ...       ...                ...   \n",
       "9699          17.3        2013  Europe    Diesel  Front-wheel drive   \n",
       "9700          15.0        2004     USA  Gasoline    All-wheel drive   \n",
       "9701          15.1        2008     USA    Diesel    All-wheel drive   \n",
       "9702          19.4        2011     USA    Diesel  Front-wheel drive   \n",
       "9703          14.7        2005    Asia    Diesel    All-wheel drive   \n",
       "\n",
       "      num_doors  fuel_efficiency_mpg  \n",
       "0           0.0            13.231729  \n",
       "1           0.0            13.688217  \n",
       "2           0.0            14.246341  \n",
       "3           2.0            16.912736  \n",
       "4           2.0            12.488369  \n",
       "...         ...                  ...  \n",
       "9699        NaN            15.101802  \n",
       "9700        0.0            17.962326  \n",
       "9701       -1.0            17.186587  \n",
       "9702        1.0            15.331551  \n",
       "9703       -1.0            14.884467  \n",
       "\n",
       "[9704 rows x 11 columns]"
      ]
     },
     "execution_count": 4,
     "metadata": {},
     "output_type": "execute_result"
    }
   ],
   "source": [
    "df"
   ]
  },
  {
   "cell_type": "code",
   "execution_count": 5,
   "id": "89bdf2f6-e0d2-4efc-af2b-1ca64470b64c",
   "metadata": {},
   "outputs": [],
   "source": [
    "# Select relevant columns\n",
    "df = df[['engine_displacement','horsepower','vehicle_weight','model_year','fuel_efficiency_mpg']]\n"
   ]
  },
  {
   "cell_type": "code",
   "execution_count": 6,
   "id": "146ef44a-f4cc-4767-95c4-3767fe2ebce6",
   "metadata": {},
   "outputs": [
    {
     "name": "stdout",
     "output_type": "stream",
     "text": [
      "engine_displacement      0\n",
      "horsepower             708\n",
      "vehicle_weight           0\n",
      "model_year               0\n",
      "fuel_efficiency_mpg      0\n",
      "dtype: int64\n"
     ]
    }
   ],
   "source": [
    "# Check missing values\n",
    "print(df.isnull().sum())"
   ]
  },
  {
   "cell_type": "code",
   "execution_count": 7,
   "id": "cc9af065-89ef-433d-864e-b502a2843a2b",
   "metadata": {},
   "outputs": [
    {
     "data": {
      "text/plain": [
       "<Axes: xlabel='fuel_efficiency_mpg', ylabel='Count'>"
      ]
     },
     "execution_count": 7,
     "metadata": {},
     "output_type": "execute_result"
    },
    {
     "data": {
      "image/png": "[encoded data removed]",
      "text/plain": [
       "<Figure size 640x480 with 1 Axes>"
      ]
     },
     "metadata": {},
     "output_type": "display_data"
    }
   ],
   "source": [
    "#Look at the fuel_efficiency_mpg variable. Does it have a long tail?\n",
    "sns.histplot(df.fuel_efficiency_mpg)"
   ]
  },
  {
   "cell_type": "code",
   "execution_count": 8,
   "id": "16d780da-c204-4bc9-904e-84956dccab65",
   "metadata": {},
   "outputs": [
    {
     "data": {
      "text/plain": [
       "149.0"
      ]
     },
     "execution_count": 8,
     "metadata": {},
     "output_type": "execute_result"
    }
   ],
   "source": [
    "df.horsepower.median()"
   ]
  },
  {
   "cell_type": "code",
   "execution_count": 9,
   "id": "0f4d3913-2922-4fd3-9a88-b84707a59333",
   "metadata": {},
   "outputs": [
    {
     "data": {
      "image/png": "[encoded data removed]",
      "text/plain": [
       "<Figure size 640x480 with 1 Axes>"
      ]
     },
     "metadata": {},
     "output_type": "display_data"
    }
   ],
   "source": [
    "plt.hist(df['fuel_efficiency_mpg'], bins=30)\n",
    "plt.xlabel('Fuel Efficiency (mpg)')\n",
    "plt.ylabel('Count')\n",
    "plt.show()"
   ]
  },
  {
   "cell_type": "code",
   "execution_count": 10,
   "id": "19425750-6ceb-4177-a890-dfb57765575d",
   "metadata": {},
   "outputs": [],
   "source": [
    "# Shuffle dataset\n",
    "df = df.sample(frac=1, random_state=42).reset_index(drop=True)"
   ]
  },
  {
   "cell_type": "code",
   "execution_count": 11,
   "id": "70b9c6e2-3121-4679-a014-ab982b1ff8f9",
   "metadata": {},
   "outputs": [],
   "source": [
    "from sklearn.model_selection import train_test_split"
   ]
  },
  {
   "cell_type": "code",
   "execution_count": 12,
   "id": "59f08f29-5941-4d1f-b7b4-feb0296513ce",
   "metadata": {},
   "outputs": [],
   "source": [
    "# train_test_split: This is a function from sklearn that splits a dataset into two parts randomly.\n",
    "# test_size=0.2: This means 20% of the dataset will be set aside as the test set, and the remaining 80% will be used for training/validation.\n",
    "# random_state=42: This is a seed for the random number generator, which ensures that the split is reproducible. Every time you run the code with 42, you’ll get the exact same split.\n",
    "# Result: df_test → 20% of the data → will only be used at the very end to evaluate the final model. \n",
    "#         df_full_train → 80% of the data → will be further split into training and validation sets.\n",
    "\n",
    "# Input: df_full_train (the 80% of data from step 1).\n",
    "# test_size=0.25: We are splitting 25% of df_full_train into a validation set. Calculation: 0.25 * 0.8 = 0.2 → This gives 20% of the original dataset as the validation set.\n",
    "# Remaining 60% of the original dataset → training set (df_train). random_state=42 → ensures reproducibility again.\n",
    "#Result: df_train → 60% of original dataset → used to train the model.\n",
    "#        df_val → 20% of original dataset → used to tune hyperparameters and evaluate models during development."
   ]
  },
  {
   "cell_type": "code",
   "execution_count": 13,
   "id": "5bffd769-7e78-46d7-a6bb-5e65bdc5d3e8",
   "metadata": {},
   "outputs": [],
   "source": [
    "# Train + temp split\n",
    "df_full_train, df_test = train_test_split(df, test_size=0.2, random_state=42)\n",
    "\n",
    "# Train/validation split\n",
    "df_train, df_val = train_test_split(df_full_train, test_size=0.25, random_state=42)  # 0.25 * 0.8 = 0.2"
   ]
  },
  {
   "cell_type": "code",
   "execution_count": 14,
   "id": "b413caaa-4e7b-4423-bcbc-c660a660cb9e",
   "metadata": {},
   "outputs": [],
   "source": [
    "from sklearn.linear_model import LinearRegression\n",
    "from sklearn.metrics import mean_squared_error\n",
    "\n",
    "features = ['engine_displacement','horsepower','vehicle_weight','model_year']\n"
   ]
  },
  {
   "cell_type": "code",
   "execution_count": 15,
   "id": "4fd1bdbd-f6fc-4d5e-ae55-3dcba55b616f",
   "metadata": {},
   "outputs": [],
   "source": [
    "# Separate target\n",
    "\n",
    "y_train = df_train['fuel_efficiency_mpg'].values\n",
    "y_val = df_val['fuel_efficiency_mpg'].values\n",
    "\n",
    "X_train = df_train[features].copy()\n",
    "X_val = df_val[features].copy()\n"
   ]
  },
  {
   "cell_type": "code",
   "execution_count": 16,
   "id": "8364ed0e-1953-4c26-824a-54996ab9e1a7",
   "metadata": {},
   "outputs": [],
   "source": [
    "# OPTION 1: Fill with 0\n",
    "X_train_0 = X_train.fillna(0)\n",
    "X_val_0 = X_val.fillna(0)"
   ]
  },
  {
   "cell_type": "code",
   "execution_count": 17,
   "id": "159eede1-1e66-4d98-a726-fe20aa44237d",
   "metadata": {},
   "outputs": [
    {
     "name": "stdout",
     "output_type": "stream",
     "text": [
      "RMSE with 0: 0.53\n"
     ]
    }
   ],
   "source": [
    "# Initialize a Linear Regression model\n",
    "model = LinearRegression()\n",
    "# Fit the linear regression model using training data. Inputs: X_train_0 → feature matrix (with missing horsepower filled with 0) : y_train → target variable (fuel efficiency)\n",
    "model.fit(X_train_0, y_train)\n",
    "\n",
    "# Make predictions on validation set. Purpose: Use the trained model to predict fuel efficiency on validation data (X_val_0). Validation data was not used during training, so this tests how well the model generalizes to unseen data.\n",
    "y_pred_0 = model.predict(X_val_0)\n",
    "\n",
    "# mean_squared_error(y_val, y_pred_0) → computes Mean Squared Error (MSE) ; np.sqrt() → takes square root to get Root Mean Squared Error (RMSE)\n",
    "# RMSE has the same units as the target (mpg) and tells you, on average, how far off the predictions are.\n",
    "rmse_0 = np.sqrt(mean_squared_error(y_val, y_pred_0))\n",
    "print(\"RMSE with 0:\", round(rmse_0, 2))"
   ]
  },
  {
   "cell_type": "code",
   "execution_count": 18,
   "id": "baa77603-e099-4176-a285-4ee063023a5c",
   "metadata": {},
   "outputs": [
    {
     "name": "stdout",
     "output_type": "stream",
     "text": [
      "RMSE with mean: 0.47\n"
     ]
    }
   ],
   "source": [
    "# OPTION 2: Fill NA with mean of training\n",
    "mean_hp = X_train['horsepower'].mean()\n",
    "X_train_mean = X_train.fillna(mean_hp)\n",
    "X_val_mean = X_val.fillna(mean_hp)\n",
    "\n",
    "model = LinearRegression()\n",
    "model.fit(X_train_mean, y_train)\n",
    "y_pred_mean = model.predict(X_val_mean)\n",
    "rmse_mean = np.sqrt(mean_squared_error(y_val, y_pred_mean))\n",
    "print(\"RMSE with mean:\", round(rmse_mean, 2))"
   ]
  },
  {
   "cell_type": "code",
   "execution_count": 19,
   "id": "1cb9162b-275a-465b-9642-e86df72fdf34",
   "metadata": {},
   "outputs": [
    {
     "name": "stdout",
     "output_type": "stream",
     "text": [
      "Question 3. Option with RMSE with mean: 0.47 gives better RMSE\n"
     ]
    }
   ],
   "source": [
    "print(\"Question 3. Option with RMSE with mean:\", round(rmse_mean, 2), \"gives better RMSE\")"
   ]
  },
  {
   "cell_type": "code",
   "execution_count": 20,
   "id": "907e83c7-ef09-488f-896b-7920f1638d13",
   "metadata": {},
   "outputs": [],
   "source": [
    "from sklearn.linear_model import LinearRegression, Ridge"
   ]
  },
  {
   "cell_type": "code",
   "execution_count": 21,
   "id": "302ec399-502f-4fd5-8a7e-d46362506d2b",
   "metadata": {},
   "outputs": [
    {
     "name": "stdout",
     "output_type": "stream",
     "text": [
      "r=0, RMSE=0.53\n",
      "r=0.01, RMSE=0.53\n",
      "r=0.1, RMSE=0.53\n",
      "r=1, RMSE=0.53\n",
      "r=5, RMSE=0.53\n",
      "r=10, RMSE=0.53\n",
      "r=100, RMSE=0.53\n"
     ]
    }
   ],
   "source": [
    "# Question 4 – Regularized Linear Regression (Ridge)\n",
    "# Calculate Root Mean Squared Error to measure prediction error\n",
    "# RMSE is in the same units as fuel efficiency (mpg). Lower RMSE → better model\n",
    "r_values = [0, 0.01, 0.1, 1, 5, 10, 100]\n",
    "\n",
    "for r in r_values:\n",
    "    model = Ridge(alpha=r)\n",
    "    model.fit(X_train_0, y_train)\n",
    "    y_pred = model.predict(X_val_0)\n",
    "    rmse = np.sqrt(mean_squared_error(y_val, y_pred))\n",
    "    print(f\"r={r}, RMSE={round(rmse, 2)}\")"
   ]
  },
  {
   "cell_type": "code",
   "execution_count": 22,
   "id": "cbf3de8d-e2ea-40d2-8a2c-d75f90bf0022",
   "metadata": {},
   "outputs": [],
   "source": [
    "# Question 5 – Influence of seed. Test seeds [0,1,2,3,4,5,6,7,8,9]. Train linear regression, fill NA with 0, compute RMSE. Calculate standard deviation\n",
    "# PURPOSE : Evaluate model stability across different random splits of the data.Ensure RMSE is not overly dependent on a specific train/val/test split.\n",
    "#           Standard deviation is a good indicator of robustness.\n",
    "#           We train the same model (Linear Regression) multiple times, each with a different random seed → different train/val/test split.\n",
    "#           After each run, we compute RMSE on the validation set.Then we compute the standard deviation (std) of those RMSE scores.\n",
    "#           If std is small → the RMSE values are all very close to each other.\n",
    "#          If std is large → the RMSE values differ significantly depending on the split.\n",
    "\n",
    "# seeds = range(10) → will test 10 different random seeds (0 to 9) for splitting the data. rmse_scores = [] → to store the RMSE of each split.\n",
    "# Purpose: Check how sensitive your model’s performance is to the choice of random seed.\n",
    "# for seed in seeds: Repeat the train/validation/test split 10 times with different random orders of the data. Helps measure stability of the model.\n",
    "# First split: 80% train+val, 20% test. Second split: 75% train, 25% val of the 80% → results in 60/20/20 split. Each seed produces a different random split.\n",
    "# fillna(0) → replace missing values in horsepower with 0. X_train, X_val → feature matrices; y_train, y_val → target arrays\n",
    "# Fit Linear Regression on training data. Predict on validation set\n",
    "# RMSE will measure how well the model generalizes.\n",
    "# rmse: Compute Root Mean Squared Error (RMSE). Append it to rmse_scores for this seed. Repeats for all seeds.\n",
    "# np.std(rmse_scores) → measures how much the RMSE varies across seeds\n",
    "# Low standard deviation → model is stable, performance doesn’t change much with data shuffling. High standard deviation → model is sensitive to the split\n"
   ]
  },
  {
   "cell_type": "code",
   "execution_count": 23,
   "id": "3400929e-224b-40f4-b17a-3d62085a4e6a",
   "metadata": {},
   "outputs": [
    {
     "name": "stdout",
     "output_type": "stream",
     "text": [
      "Standard deviation of RMSEs: 0.009\n"
     ]
    }
   ],
   "source": [
    "\n",
    "seeds = range(10)\n",
    "rmse_scores = []\n",
    "\n",
    "for seed in seeds:\n",
    "    df_full_train, df_test = train_test_split(df, test_size=0.2, random_state=seed)\n",
    "    df_train, df_val = train_test_split(df_full_train, test_size=0.25, random_state=seed)\n",
    "    \n",
    "    X_train = df_train[features].fillna(0)\n",
    "    y_train = df_train['fuel_efficiency_mpg'].values\n",
    "    X_val = df_val[features].fillna(0)\n",
    "    y_val = df_val['fuel_efficiency_mpg'].values\n",
    "    \n",
    "    model = LinearRegression()\n",
    "    model.fit(X_train, y_train)\n",
    "    y_pred = model.predict(X_val)\n",
    "    rmse = np.sqrt(mean_squared_error(y_val, y_pred))\n",
    "    rmse_scores.append(rmse)\n",
    "\n",
    "std_rmse = np.std(rmse_scores)\n",
    "print(\"Standard deviation of RMSEs:\", round(std_rmse, 3))"
   ]
  },
  {
   "cell_type": "code",
   "execution_count": 24,
   "id": "fedf8d2e-f831-4cb0-85f0-8f9d45833f46",
   "metadata": {},
   "outputs": [],
   "source": [
    "# CONCLUTION:\n",
    "#          The low standard deviation shows that our linear regression model is stable, because:\n",
    "#          It’s deterministic (no randomness in training). The dataset splits don’t drastically change the feature-target relationship.\n",
    "#          Strong predictors + simple preprocessing = consistent performance."
   ]
  },
  {
   "cell_type": "code",
   "execution_count": 25,
   "id": "9bfb6dab-b0df-4a9f-b9da-acef028402ea",
   "metadata": {},
   "outputs": [
    {
     "name": "stdout",
     "output_type": "stream",
     "text": [
      "RMSE on test: 0.524\n"
     ]
    }
   ],
   "source": [
    "# Question 6 – Train on train+val, test on test\n",
    "# Use seed 9\n",
    "# Combine train+val\n",
    "# Fill missing with 0\n",
    "#Train Ridge with r=0.001\n",
    "# Split\n",
    "df_full_train, df_test = train_test_split(df, test_size=0.2, random_state=9)\n",
    "df_train, df_val = train_test_split(df_full_train, test_size=0.25, random_state=9)\n",
    "\n",
    "# join train + validation = 80% of the data into one set (df_train_combined). \n",
    "# Purpose: Use all possible data (except test) to train a stronger model before final testing.\n",
    "df_train_combined = pd.concat([df_train, df_val])\n",
    "X_train_combined = df_train_combined[features].fillna(0)\n",
    "y_train_combined = df_train_combined['fuel_efficiency_mpg'].values\n",
    "X_test = df_test[features].fillna(0)\n",
    "y_test = df_test['fuel_efficiency_mpg'].values\n",
    "\n",
    "# Predict fuel efficiency on the unseen test set.\n",
    "#Calculate RMSE (Root Mean Squared Error) → lower RMSE = better predictions.\n",
    "# Purpose: Measure final model accuracy on completely unseen data.\n",
    "model = Ridge(alpha=0.001)\n",
    "model.fit(X_train_combined, y_train_combined)\n",
    "y_pred_test = model.predict(X_test)\n",
    "rmse_test = np.sqrt(mean_squared_error(y_test, y_pred_test))\n",
    "print(\"RMSE on test:\", round(rmse_test, 3))\n"
   ]
  },
  {
   "cell_type": "code",
   "execution_count": null,
   "id": "ceb46aff-2653-4613-aca4-4b8a14518fb1",
   "metadata": {},
   "outputs": [],
   "source": []
  }
 ],
 "metadata": {
  "kernelspec": {
   "display_name": "Python (myenv)",
   "language": "python",
   "name": "myenv"
  },
  "language_info": {
   "codemirror_mode": {
    "name": "ipython",
    "version": 3
   },
   "file_extension": ".py",
   "mimetype": "text/x-python",
   "name": "python",
   "nbconvert_exporter": "python",
   "pygments_lexer": "ipython3",
   "version": "3.11.13"
  }
 },
 "nbformat": 4,
 "nbformat_minor": 5
}
