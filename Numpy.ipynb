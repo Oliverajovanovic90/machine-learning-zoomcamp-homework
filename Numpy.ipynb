{
 "cells": [
  {
   "cell_type": "code",
   "execution_count": 1,
   "id": "5e9f6b1e-29d7-428c-bd3a-788ca688176d",
   "metadata": {},
   "outputs": [],
   "source": [
    "import numpy as np"
   ]
  },
  {
   "cell_type": "code",
   "execution_count": 2,
   "id": "c479ac69-14e4-4c99-add3-ce5a09d79db7",
   "metadata": {},
   "outputs": [
    {
     "data": {
      "text/plain": [
       "<module 'numpy' from '/home/codespace/.local/lib/python3.12/site-packages/numpy/__init__.py'>"
      ]
     },
     "execution_count": 2,
     "metadata": {},
     "output_type": "execute_result"
    }
   ],
   "source": [
    "np"
   ]
  },
  {
   "cell_type": "code",
   "execution_count": 3,
   "id": "a9aa5cc0-bcca-4789-9ec3-df67c38aa0de",
   "metadata": {},
   "outputs": [
    {
     "data": {
      "text/plain": [
       "array([0., 0., 0., 0., 0.])"
      ]
     },
     "execution_count": 3,
     "metadata": {},
     "output_type": "execute_result"
    }
   ],
   "source": [
    "#Creating Arrays with Zeros, Ones, or Constants\n",
    "np.zeros(5)"
   ]
  },
  {
   "cell_type": "code",
   "execution_count": 4,
   "id": "97e40051-9537-4b68-ac81-345455b89984",
   "metadata": {},
   "outputs": [
    {
     "data": {
      "text/plain": [
       "array([1., 1., 1., 1., 1., 1., 1., 1., 1., 1.])"
      ]
     },
     "execution_count": 4,
     "metadata": {},
     "output_type": "execute_result"
    }
   ],
   "source": [
    "np.ones(10)"
   ]
  },
  {
   "cell_type": "code",
   "execution_count": 7,
   "id": "5064dbd3-f0db-465c-b911-def44200a00f",
   "metadata": {},
   "outputs": [
    {
     "data": {
      "text/plain": [
       "array([2.5, 2.5, 2.5, 2.5, 2.5, 2.5, 2.5, 2.5, 2.5, 2.5])"
      ]
     },
     "execution_count": 7,
     "metadata": {},
     "output_type": "execute_result"
    }
   ],
   "source": [
    "# arrays\n",
    "np.full(10,2.5)"
   ]
  },
  {
   "cell_type": "code",
   "execution_count": 8,
   "id": "11382764-3287-4b46-ad85-45a8da547a31",
   "metadata": {},
   "outputs": [
    {
     "data": {
      "text/plain": [
       "[1, 2, 3, 4, 5]"
      ]
     },
     "execution_count": 8,
     "metadata": {},
     "output_type": "execute_result"
    }
   ],
   "source": [
    "#Python lists\n",
    "[1, 2, 3, 4, 5]"
   ]
  },
  {
   "cell_type": "code",
   "execution_count": 13,
   "id": "b38276d3-baa0-4968-826c-4e2b2999155c",
   "metadata": {},
   "outputs": [
    {
     "data": {
      "text/plain": [
       "array([1, 2, 3, 4, 5])"
      ]
     },
     "execution_count": 13,
     "metadata": {},
     "output_type": "execute_result"
    }
   ],
   "source": [
    "#array lists\n",
    "a = np.array([1, 2, 3, 4, 5])\n",
    "a"
   ]
  },
  {
   "cell_type": "code",
   "execution_count": 14,
   "id": "f6e86929-8d47-4a49-a302-8d1e41906da5",
   "metadata": {},
   "outputs": [
    {
     "data": {
      "text/plain": [
       "np.int64(4)"
      ]
     },
     "execution_count": 14,
     "metadata": {},
     "output_type": "execute_result"
    }
   ],
   "source": [
    "#if we want to access element 3\n",
    "a [3]"
   ]
  },
  {
   "cell_type": "code",
   "execution_count": 15,
   "id": "7bd5263b-2e6a-407d-8864-dfd9a6573664",
   "metadata": {},
   "outputs": [
    {
     "data": {
      "text/plain": [
       "array([ 1,  2, 10,  4,  5])"
      ]
     },
     "execution_count": 15,
     "metadata": {},
     "output_type": "execute_result"
    }
   ],
   "source": [
    "#change to different\n",
    "a [2] = 10\n",
    "a"
   ]
  },
  {
   "cell_type": "code",
   "execution_count": 16,
   "id": "a7b1d0f7-23f6-4a29-88cc-d0b057d34cdb",
   "metadata": {},
   "outputs": [
    {
     "data": {
      "text/plain": [
       "array([0, 1, 2, 3, 4, 5, 6, 7, 8, 9])"
      ]
     },
     "execution_count": 16,
     "metadata": {},
     "output_type": "execute_result"
    }
   ],
   "source": [
    "#create range from 0 to 1\n",
    "np.arange(10)"
   ]
  },
  {
   "cell_type": "code",
   "execution_count": 17,
   "id": "0f0e3553-bc84-426e-876f-ce965e15d953",
   "metadata": {},
   "outputs": [
    {
     "data": {
      "text/plain": [
       "array([0. , 0.1, 0.2, 0.3, 0.4, 0.5, 0.6, 0.7, 0.8, 0.9, 1. ])"
      ]
     },
     "execution_count": 17,
     "metadata": {},
     "output_type": "execute_result"
    }
   ],
   "source": [
    "#arrey that filters number between first and\n",
    "np.linspace(0,1,11)"
   ]
  },
  {
   "cell_type": "code",
   "execution_count": 18,
   "id": "e205cd79-0647-46e7-b016-3d106872b808",
   "metadata": {},
   "outputs": [
    {
     "data": {
      "text/plain": [
       "array([[0., 0.],\n",
       "       [0., 0.],\n",
       "       [0., 0.],\n",
       "       [0., 0.],\n",
       "       [0., 0.]])"
      ]
     },
     "execution_count": 18,
     "metadata": {},
     "output_type": "execute_result"
    }
   ],
   "source": [
    "#MULTI-DEMANTIONAL ARRAYS\n",
    "np.zeros((5,2))"
   ]
  },
  {
   "cell_type": "code",
   "execution_count": 19,
   "id": "8b0ea045-410f-4b21-b8b9-31bd14c6060f",
   "metadata": {},
   "outputs": [
    {
     "data": {
      "text/plain": [
       "array([[1, 2, 3],\n",
       "       [4, 5, 6],\n",
       "       [7, 8, 9]])"
      ]
     },
     "execution_count": 19,
     "metadata": {},
     "output_type": "execute_result"
    }
   ],
   "source": [
    "np.array ([\n",
    "          [1,2,3],\n",
    "          [4,5,6],\n",
    "          [7,8,9]\n",
    "])"
   ]
  },
  {
   "cell_type": "code",
   "execution_count": 20,
   "id": "77edc027-87df-4683-925c-0182e0423263",
   "metadata": {},
   "outputs": [],
   "source": [
    "#to access elements of those arreys\n",
    "n = np.array ([\n",
    "          [1,2,3],\n",
    "          [4,5,6],\n",
    "          [7,8,9]\n",
    "])"
   ]
  },
  {
   "cell_type": "code",
   "execution_count": 22,
   "id": "dced6f81-6988-4833-928f-84721568cc17",
   "metadata": {},
   "outputs": [
    {
     "data": {
      "text/plain": [
       "array([[ 1, 20,  3],\n",
       "       [ 4,  5,  6],\n",
       "       [ 7,  8,  9]])"
      ]
     },
     "execution_count": 22,
     "metadata": {},
     "output_type": "execute_result"
    }
   ],
   "source": [
    "#Change element\n",
    "n[0,1]= 20\n",
    "n"
   ]
  },
  {
   "cell_type": "code",
   "execution_count": 23,
   "id": "4a819940-6a38-4fed-ba60-ac49d55fc106",
   "metadata": {},
   "outputs": [
    {
     "data": {
      "text/plain": [
       "array([ 1, 20,  3])"
      ]
     },
     "execution_count": 23,
     "metadata": {},
     "output_type": "execute_result"
    }
   ],
   "source": [
    "#get row 0\n",
    "n[0]"
   ]
  },
  {
   "cell_type": "code",
   "execution_count": 24,
   "id": "34c95f2a-50d7-4091-8a7d-1f09bb3fa507",
   "metadata": {},
   "outputs": [
    {
     "data": {
      "text/plain": [
       "array([[ 1, 20,  3],\n",
       "       [ 4,  5,  6],\n",
       "       [ 1,  1,  1]])"
      ]
     },
     "execution_count": 24,
     "metadata": {},
     "output_type": "execute_result"
    }
   ],
   "source": [
    "#change multiple rows\n",
    "n[2]=[1,1,1]\n",
    "n"
   ]
  },
  {
   "cell_type": "code",
   "execution_count": 25,
   "id": "7d1c670d-7790-428f-b8e4-80a078d75196",
   "metadata": {},
   "outputs": [
    {
     "data": {
      "text/plain": [
       "array([20,  5,  1])"
      ]
     },
     "execution_count": 25,
     "metadata": {},
     "output_type": "execute_result"
    }
   ],
   "source": [
    "#for column\n",
    "n[:,1]"
   ]
  },
  {
   "cell_type": "code",
   "execution_count": 27,
   "id": "77521736-31c8-4f06-b84e-70776f45dae1",
   "metadata": {},
   "outputs": [
    {
     "data": {
      "text/plain": [
       "array([[ 1, 20,  3],\n",
       "       [ 4,  5,  6],\n",
       "       [ 1,  1,  1]])"
      ]
     },
     "execution_count": 27,
     "metadata": {},
     "output_type": "execute_result"
    }
   ],
   "source": [
    "#return all the rows\n",
    "n[:]"
   ]
  },
  {
   "cell_type": "code",
   "execution_count": 28,
   "id": "39265f66-494d-4208-8405-36d23d48a15c",
   "metadata": {},
   "outputs": [
    {
     "data": {
      "text/plain": [
       "array([[ 1, 20,  0],\n",
       "       [ 4,  5,  1],\n",
       "       [ 1,  1,  2]])"
      ]
     },
     "execution_count": 28,
     "metadata": {},
     "output_type": "execute_result"
    }
   ],
   "source": [
    "#change columns\n",
    "n[:,2]= [0,1,2]\n",
    "n"
   ]
  },
  {
   "cell_type": "code",
   "execution_count": 30,
   "id": "7ccf4b0d-9f58-4974-a89d-edd3eb315ee5",
   "metadata": {},
   "outputs": [
    {
     "data": {
      "text/plain": [
       "array([[0.9953784 , 0.57385056],\n",
       "       [0.76699163, 0.3286242 ],\n",
       "       [0.76077739, 0.63438545],\n",
       "       [0.31309349, 0.54641241],\n",
       "       [0.06808983, 0.48481053]])"
      ]
     },
     "execution_count": 30,
     "metadata": {},
     "output_type": "execute_result"
    }
   ],
   "source": [
    "#RANDOMLY GENERATED ARRAYS\n",
    "np.random.rand(5,2)"
   ]
  },
  {
   "cell_type": "code",
   "execution_count": 31,
   "id": "8fb20c50-65f4-4063-9206-89e7929698e8",
   "metadata": {},
   "outputs": [
    {
     "data": {
      "text/plain": [
       "array([[0.4359949 , 0.02592623],\n",
       "       [0.54966248, 0.43532239],\n",
       "       [0.4203678 , 0.33033482],\n",
       "       [0.20464863, 0.61927097],\n",
       "       [0.29965467, 0.26682728]])"
      ]
     },
     "execution_count": 31,
     "metadata": {},
     "output_type": "execute_result"
    }
   ],
   "source": [
    "#set up so the numbers do not change everytime you run code\n",
    "np.random.seed(2)\n",
    "np.random.rand(5,2)"
   ]
  },
  {
   "cell_type": "code",
   "execution_count": 32,
   "id": "b306c55f-5949-4cf1-9dba-cfd4181d21bd",
   "metadata": {},
   "outputs": [
    {
     "data": {
      "text/plain": [
       "array([[-0.41675785, -0.05626683],\n",
       "       [-2.1361961 ,  1.64027081],\n",
       "       [-1.79343559, -0.84174737],\n",
       "       [ 0.50288142, -1.24528809],\n",
       "       [-1.05795222, -0.90900761]])"
      ]
     },
     "execution_count": 32,
     "metadata": {},
     "output_type": "execute_result"
    }
   ],
   "source": [
    "#standard normal distribution\n",
    "np.random.seed(2)\n",
    "np.random.randn(5,2)"
   ]
  },
  {
   "cell_type": "code",
   "execution_count": 33,
   "id": "817dad04-4459-4764-9e50-4e451b60c9a4",
   "metadata": {},
   "outputs": [
    {
     "data": {
      "text/plain": [
       "array([[ -41.67578474,   -5.62668272],\n",
       "       [-213.61960957,  164.02708084],\n",
       "       [-179.34355852,  -84.17473657],\n",
       "       [  50.28814172, -124.52880866],\n",
       "       [-105.79522189,  -90.90076149]])"
      ]
     },
     "execution_count": 33,
     "metadata": {},
     "output_type": "execute_result"
    }
   ],
   "source": [
    "#for integer to have numbers multoply by 100\n",
    "np.random.seed(2)\n",
    "100 * np.random.randn(5,2)"
   ]
  },
  {
   "cell_type": "code",
   "execution_count": 34,
   "id": "1258de27-1579-46c1-a0fe-29a263995a0d",
   "metadata": {},
   "outputs": [
    {
     "data": {
      "text/plain": [
       "array([[40, 15],\n",
       "       [72, 22],\n",
       "       [43, 82],\n",
       "       [75,  7],\n",
       "       [34, 49]])"
      ]
     },
     "execution_count": 34,
     "metadata": {},
     "output_type": "execute_result"
    }
   ],
   "source": [
    "#randam integers generate, size 5 rows and 2 columns\n",
    "np.random.seed(2)\n",
    "np.random.randint(low = 0 ,high = 100, size=(5,2))"
   ]
  },
  {
   "cell_type": "code",
   "execution_count": 35,
   "id": "57d12b1c-6137-4d75-8f88-9e2da150632e",
   "metadata": {},
   "outputs": [
    {
     "data": {
      "text/plain": [
       "array([0, 1, 2, 3, 4])"
      ]
     },
     "execution_count": 35,
     "metadata": {},
     "output_type": "execute_result"
    }
   ],
   "source": [
    "#ELEMENT WISE OPERATIONS\n",
    "a = np.arange(5)\n",
    "a"
   ]
  },
  {
   "cell_type": "code",
   "execution_count": 36,
   "id": "a989fa66-eeca-4479-818e-e78d04c9d138",
   "metadata": {},
   "outputs": [
    {
     "data": {
      "text/plain": [
       "array([1, 2, 3, 4, 5])"
      ]
     },
     "execution_count": 36,
     "metadata": {},
     "output_type": "execute_result"
    }
   ],
   "source": [
    "#add to all numbers 1\n",
    "a + 1"
   ]
  },
  {
   "cell_type": "code",
   "execution_count": 37,
   "id": "e0135675-46ff-4418-8653-907f1f7fe58d",
   "metadata": {},
   "outputs": [
    {
     "data": {
      "text/plain": [
       "array([0, 2, 4, 6, 8])"
      ]
     },
     "execution_count": 37,
     "metadata": {},
     "output_type": "execute_result"
    }
   ],
   "source": [
    "a * 2"
   ]
  },
  {
   "cell_type": "code",
   "execution_count": 41,
   "id": "9f42bf19-0e12-4cba-8d2d-7efa0a9f910f",
   "metadata": {},
   "outputs": [
    {
     "data": {
      "text/plain": [
       "array([10.  , 10.01, 10.02, 10.03, 10.04])"
      ]
     },
     "execution_count": 41,
     "metadata": {},
     "output_type": "execute_result"
    }
   ],
   "source": [
    "b = (a / 100)+10\n",
    "b"
   ]
  },
  {
   "cell_type": "code",
   "execution_count": 42,
   "id": "41ff2a4f-b46f-4f49-b242-9aba26b18da7",
   "metadata": {},
   "outputs": [
    {
     "data": {
      "text/plain": [
       "array([10.  , 11.01, 12.02, 13.03, 14.04])"
      ]
     },
     "execution_count": 42,
     "metadata": {},
     "output_type": "execute_result"
    }
   ],
   "source": [
    "a + b"
   ]
  },
  {
   "cell_type": "code",
   "execution_count": 43,
   "id": "d1f13d68-3f17-4ed1-a02e-893406e7e6fa",
   "metadata": {},
   "outputs": [
    {
     "data": {
      "text/plain": [
       "array([False, False,  True,  True,  True])"
      ]
     },
     "execution_count": 43,
     "metadata": {},
     "output_type": "execute_result"
    }
   ],
   "source": [
    "#COMPARATION\n",
    "a >= 2"
   ]
  },
  {
   "cell_type": "code",
   "execution_count": 44,
   "id": "ed4bc2c8-102a-4ceb-b4c9-d062ef47070f",
   "metadata": {},
   "outputs": [
    {
     "data": {
      "text/plain": [
       "array([False, False, False, False, False])"
      ]
     },
     "execution_count": 44,
     "metadata": {},
     "output_type": "execute_result"
    }
   ],
   "source": [
    "a > b"
   ]
  },
  {
   "cell_type": "code",
   "execution_count": 46,
   "id": "f5889bae-3335-4580-ba90-3cd026c761d6",
   "metadata": {},
   "outputs": [
    {
     "data": {
      "text/plain": [
       "array([0, 1, 2, 3, 4])"
      ]
     },
     "execution_count": 46,
     "metadata": {},
     "output_type": "execute_result"
    }
   ],
   "source": [
    "# which elenments a are greater than \n",
    "a[a < b]"
   ]
  },
  {
   "cell_type": "code",
   "execution_count": 48,
   "id": "bab1f6a8-eba0-42a6-9d37-541418257107",
   "metadata": {},
   "outputs": [
    {
     "data": {
      "text/plain": [
       "np.int64(0)"
      ]
     },
     "execution_count": 48,
     "metadata": {},
     "output_type": "execute_result"
    }
   ],
   "source": [
    "#SUMMARIZING OPERATION\n",
    "#return smallest numbr\n",
    "a.min()"
   ]
  },
  {
   "cell_type": "code",
   "execution_count": 49,
   "id": "f23acaf3-f409-47b6-8962-ff1ff74cf228",
   "metadata": {},
   "outputs": [
    {
     "data": {
      "text/plain": [
       "np.int64(4)"
      ]
     },
     "execution_count": 49,
     "metadata": {},
     "output_type": "execute_result"
    }
   ],
   "source": [
    "a.max()"
   ]
  },
  {
   "cell_type": "code",
   "execution_count": 50,
   "id": "4194aa63-8ea7-455b-89fc-9146a1e162c9",
   "metadata": {},
   "outputs": [
    {
     "data": {
      "text/plain": [
       "np.int64(10)"
      ]
     },
     "execution_count": 50,
     "metadata": {},
     "output_type": "execute_result"
    }
   ],
   "source": [
    "a.sum()"
   ]
  },
  {
   "cell_type": "code",
   "execution_count": 51,
   "id": "4898d068-bfab-40df-bbf3-d70eec35485f",
   "metadata": {},
   "outputs": [
    {
     "data": {
      "text/plain": [
       "np.float64(2.0)"
      ]
     },
     "execution_count": 51,
     "metadata": {},
     "output_type": "execute_result"
    }
   ],
   "source": [
    "#average\n",
    "a.mean()"
   ]
  },
  {
   "cell_type": "code",
   "execution_count": 52,
   "id": "697b2e1c-d381-4fcc-95b4-72feca944368",
   "metadata": {},
   "outputs": [
    {
     "data": {
      "text/plain": [
       "np.int64(0)"
      ]
     },
     "execution_count": 52,
     "metadata": {},
     "output_type": "execute_result"
    }
   ],
   "source": [
    "n.min()"
   ]
  },
  {
   "cell_type": "code",
   "execution_count": null,
   "id": "ae121ecc-1e9f-41cd-85a7-bea7ef2d10ea",
   "metadata": {},
   "outputs": [],
   "source": []
  }
 ],
 "metadata": {
  "kernelspec": {
   "display_name": "Python 3 (ipykernel)",
   "language": "python",
   "name": "python3"
  },
  "language_info": {
   "codemirror_mode": {
    "name": "ipython",
    "version": 3
   },
   "file_extension": ".py",
   "mimetype": "text/x-python",
   "name": "python",
   "nbconvert_exporter": "python",
   "pygments_lexer": "ipython3",
   "version": "3.12.1"
  }
 },
 "nbformat": 4,
 "nbformat_minor": 5
}
